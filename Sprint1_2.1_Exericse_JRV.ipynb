{
 "cells": [
  {
   "cell_type": "markdown",
   "metadata": {},
   "source": [
    "# GROUP ACTIVITY"
   ]
  },
  {
   "cell_type": "markdown",
   "metadata": {},
   "source": [
    "In this activity, there all 12 questions prepared with varying levels of difficulty. Your task is to answer as many as you can AS A GROUP. Each question is independent of one another. Delegate and strategize on how you will answer the most number of questions. **Good luck! :)**"
   ]
  },
  {
   "cell_type": "markdown",
   "metadata": {},
   "source": [
    "#### First, setup the data"
   ]
  },
  {
   "cell_type": "code",
   "execution_count": 5,
   "metadata": {},
   "outputs": [],
   "source": [
    "import pandas as pd\n",
    "import numpy as np\n",
    "import matplotlib.pyplot as plt"
   ]
  },
  {
   "cell_type": "code",
   "execution_count": 7,
   "metadata": {},
   "outputs": [
    {
     "name": "stderr",
     "output_type": "stream",
     "text": [
      "C:\\Users\\taba\\anaconda3\\lib\\site-packages\\IPython\\core\\interactiveshell.py:3146: DtypeWarning: Columns (10,11) have mixed types.Specify dtype option on import or set low_memory=False.\n",
      "  has_raised = await self.run_ast_nodes(code_ast.body, cell_name,\n"
     ]
    }
   ],
   "source": [
    "schools = pd.read_csv(\"schools_combined.csv\")"
   ]
  },
  {
   "cell_type": "code",
   "execution_count": 8,
   "metadata": {},
   "outputs": [
    {
     "data": {
      "text/html": [
       "<div>\n",
       "<style scoped>\n",
       "    .dataframe tbody tr th:only-of-type {\n",
       "        vertical-align: middle;\n",
       "    }\n",
       "\n",
       "    .dataframe tbody tr th {\n",
       "        vertical-align: top;\n",
       "    }\n",
       "\n",
       "    .dataframe thead th {\n",
       "        text-align: right;\n",
       "    }\n",
       "</style>\n",
       "<table border=\"1\" class=\"dataframe\">\n",
       "  <thead>\n",
       "    <tr style=\"text-align: right;\">\n",
       "      <th></th>\n",
       "      <th>Unnamed: 0</th>\n",
       "      <th>region</th>\n",
       "      <th>province</th>\n",
       "      <th>municipality</th>\n",
       "      <th>division</th>\n",
       "      <th>school_id</th>\n",
       "      <th>school_name</th>\n",
       "      <th>year_level</th>\n",
       "      <th>gender</th>\n",
       "      <th>enrollment</th>\n",
       "      <th>latitude</th>\n",
       "      <th>longitude</th>\n",
       "      <th>ID</th>\n",
       "      <th>Total_Enro</th>\n",
       "      <th>Total_Inst</th>\n",
       "      <th>Rooms_used</th>\n",
       "      <th>Rooms_unused</th>\n",
       "      <th>Type_of_Sc</th>\n",
       "    </tr>\n",
       "  </thead>\n",
       "  <tbody>\n",
       "    <tr>\n",
       "      <th>0</th>\n",
       "      <td>0</td>\n",
       "      <td>Region I - Ilocos Region</td>\n",
       "      <td>Ilocos Norte</td>\n",
       "      <td>Bacarra</td>\n",
       "      <td>Ilocos Norte</td>\n",
       "      <td>100002</td>\n",
       "      <td>Bacarra CES</td>\n",
       "      <td>grade 1</td>\n",
       "      <td>male</td>\n",
       "      <td>41</td>\n",
       "      <td>18.25096389</td>\n",
       "      <td>120.6089583</td>\n",
       "      <td>100002</td>\n",
       "      <td>318</td>\n",
       "      <td>16</td>\n",
       "      <td>12.0</td>\n",
       "      <td>0.0</td>\n",
       "      <td>School with no Annexes</td>\n",
       "    </tr>\n",
       "    <tr>\n",
       "      <th>1</th>\n",
       "      <td>1</td>\n",
       "      <td>Region I - Ilocos Region</td>\n",
       "      <td>Ilocos Norte</td>\n",
       "      <td>Bacarra</td>\n",
       "      <td>Ilocos Norte</td>\n",
       "      <td>100002</td>\n",
       "      <td>Bacarra CES</td>\n",
       "      <td>grade 1</td>\n",
       "      <td>female</td>\n",
       "      <td>30</td>\n",
       "      <td>18.25096389</td>\n",
       "      <td>120.6089583</td>\n",
       "      <td>100002</td>\n",
       "      <td>318</td>\n",
       "      <td>16</td>\n",
       "      <td>12.0</td>\n",
       "      <td>0.0</td>\n",
       "      <td>School with no Annexes</td>\n",
       "    </tr>\n",
       "    <tr>\n",
       "      <th>2</th>\n",
       "      <td>2</td>\n",
       "      <td>Region I - Ilocos Region</td>\n",
       "      <td>Ilocos Norte</td>\n",
       "      <td>Bacarra</td>\n",
       "      <td>Ilocos Norte</td>\n",
       "      <td>100002</td>\n",
       "      <td>Bacarra CES</td>\n",
       "      <td>grade 2</td>\n",
       "      <td>male</td>\n",
       "      <td>37</td>\n",
       "      <td>18.25096389</td>\n",
       "      <td>120.6089583</td>\n",
       "      <td>100002</td>\n",
       "      <td>318</td>\n",
       "      <td>16</td>\n",
       "      <td>12.0</td>\n",
       "      <td>0.0</td>\n",
       "      <td>School with no Annexes</td>\n",
       "    </tr>\n",
       "    <tr>\n",
       "      <th>3</th>\n",
       "      <td>3</td>\n",
       "      <td>Region I - Ilocos Region</td>\n",
       "      <td>Ilocos Norte</td>\n",
       "      <td>Bacarra</td>\n",
       "      <td>Ilocos Norte</td>\n",
       "      <td>100002</td>\n",
       "      <td>Bacarra CES</td>\n",
       "      <td>grade 2</td>\n",
       "      <td>female</td>\n",
       "      <td>38</td>\n",
       "      <td>18.25096389</td>\n",
       "      <td>120.6089583</td>\n",
       "      <td>100002</td>\n",
       "      <td>318</td>\n",
       "      <td>16</td>\n",
       "      <td>12.0</td>\n",
       "      <td>0.0</td>\n",
       "      <td>School with no Annexes</td>\n",
       "    </tr>\n",
       "    <tr>\n",
       "      <th>4</th>\n",
       "      <td>4</td>\n",
       "      <td>Region I - Ilocos Region</td>\n",
       "      <td>Ilocos Norte</td>\n",
       "      <td>Bacarra</td>\n",
       "      <td>Ilocos Norte</td>\n",
       "      <td>100002</td>\n",
       "      <td>Bacarra CES</td>\n",
       "      <td>grade 3</td>\n",
       "      <td>male</td>\n",
       "      <td>41</td>\n",
       "      <td>18.25096389</td>\n",
       "      <td>120.6089583</td>\n",
       "      <td>100002</td>\n",
       "      <td>318</td>\n",
       "      <td>16</td>\n",
       "      <td>12.0</td>\n",
       "      <td>0.0</td>\n",
       "      <td>School with no Annexes</td>\n",
       "    </tr>\n",
       "  </tbody>\n",
       "</table>\n",
       "</div>"
      ],
      "text/plain": [
       "   Unnamed: 0                    region      province municipality  \\\n",
       "0           0  Region I - Ilocos Region  Ilocos Norte      Bacarra   \n",
       "1           1  Region I - Ilocos Region  Ilocos Norte      Bacarra   \n",
       "2           2  Region I - Ilocos Region  Ilocos Norte      Bacarra   \n",
       "3           3  Region I - Ilocos Region  Ilocos Norte      Bacarra   \n",
       "4           4  Region I - Ilocos Region  Ilocos Norte      Bacarra   \n",
       "\n",
       "       division  school_id  school_name year_level  gender  enrollment  \\\n",
       "0  Ilocos Norte     100002  Bacarra CES    grade 1    male          41   \n",
       "1  Ilocos Norte     100002  Bacarra CES    grade 1  female          30   \n",
       "2  Ilocos Norte     100002  Bacarra CES    grade 2    male          37   \n",
       "3  Ilocos Norte     100002  Bacarra CES    grade 2  female          38   \n",
       "4  Ilocos Norte     100002  Bacarra CES    grade 3    male          41   \n",
       "\n",
       "      latitude    longitude      ID  Total_Enro  Total_Inst  Rooms_used  \\\n",
       "0  18.25096389  120.6089583  100002         318          16        12.0   \n",
       "1  18.25096389  120.6089583  100002         318          16        12.0   \n",
       "2  18.25096389  120.6089583  100002         318          16        12.0   \n",
       "3  18.25096389  120.6089583  100002         318          16        12.0   \n",
       "4  18.25096389  120.6089583  100002         318          16        12.0   \n",
       "\n",
       "   Rooms_unused              Type_of_Sc  \n",
       "0           0.0  School with no Annexes  \n",
       "1           0.0  School with no Annexes  \n",
       "2           0.0  School with no Annexes  \n",
       "3           0.0  School with no Annexes  \n",
       "4           0.0  School with no Annexes  "
      ]
     },
     "execution_count": 8,
     "metadata": {},
     "output_type": "execute_result"
    }
   ],
   "source": [
    "schools.head()"
   ]
  },
  {
   "cell_type": "markdown",
   "metadata": {},
   "source": [
    "#### Before proceeding with the questions, check first with your groupmates if you all have the correct dataframe."
   ]
  },
  {
   "cell_type": "markdown",
   "metadata": {},
   "source": [
    "1. What is the size of the dataframe?"
   ]
  },
  {
   "cell_type": "code",
   "execution_count": 4,
   "metadata": {},
   "outputs": [
    {
     "data": {
      "text/plain": [
       "(159744, 18)"
      ]
     },
     "execution_count": 4,
     "metadata": {},
     "output_type": "execute_result"
    }
   ],
   "source": [
    "schools.shape"
   ]
  },
  {
   "cell_type": "markdown",
   "metadata": {},
   "source": [
    "2. What are the columns?"
   ]
  },
  {
   "cell_type": "code",
   "execution_count": 5,
   "metadata": {},
   "outputs": [
    {
     "data": {
      "text/plain": [
       "Index(['Unnamed: 0', 'region', 'province', 'municipality', 'division',\n",
       "       'school_id', 'school_name', 'year_level', 'gender', 'enrollment',\n",
       "       'latitude', 'longitude', 'ID', 'Total_Enro', 'Total_Inst', 'Rooms_used',\n",
       "       'Rooms_unused', 'Type_of_Sc'],\n",
       "      dtype='object')"
      ]
     },
     "execution_count": 5,
     "metadata": {},
     "output_type": "execute_result"
    }
   ],
   "source": [
    "schools.columns"
   ]
  },
  {
   "cell_type": "markdown",
   "metadata": {},
   "source": [
    "3. How many schools are there?"
   ]
  },
  {
   "cell_type": "code",
   "execution_count": 6,
   "metadata": {},
   "outputs": [
    {
     "data": {
      "text/plain": [
       "14003"
      ]
     },
     "execution_count": 6,
     "metadata": {},
     "output_type": "execute_result"
    }
   ],
   "source": [
    "schools.school_id.nunique()\n",
    "#unique number of school id"
   ]
  },
  {
   "cell_type": "markdown",
   "metadata": {},
   "source": [
    "4. How many missing values are there?"
   ]
  },
  {
   "cell_type": "code",
   "execution_count": 6,
   "metadata": {},
   "outputs": [
    {
     "data": {
      "text/plain": [
       "Unnamed: 0       0\n",
       "region           0\n",
       "province         0\n",
       "municipality     0\n",
       "division         0\n",
       "school_id        0\n",
       "school_name      0\n",
       "year_level       0\n",
       "gender           0\n",
       "enrollment       0\n",
       "latitude         0\n",
       "longitude        0\n",
       "ID               0\n",
       "Total_Enro       0\n",
       "Total_Inst       0\n",
       "Rooms_used      12\n",
       "Rooms_unused    12\n",
       "Type_of_Sc       0\n",
       "dtype: int64"
      ]
     },
     "execution_count": 6,
     "metadata": {},
     "output_type": "execute_result"
    }
   ],
   "source": [
    "schools.isna().sum()"
   ]
  },
  {
   "cell_type": "markdown",
   "metadata": {},
   "source": [
    "Alright! Get started!"
   ]
  },
  {
   "cell_type": "markdown",
   "metadata": {},
   "source": [
    "## Exercise"
   ]
  },
  {
   "cell_type": "markdown",
   "metadata": {},
   "source": [
    "***Easy***"
   ]
  },
  {
   "cell_type": "markdown",
   "metadata": {},
   "source": [
    "1. Which has a greater number of overall enrollees: males or females? (use `enrollment` column)"
   ]
  },
  {
   "cell_type": "markdown",
   "metadata": {},
   "source": [
    "Insert markdown final answer:"
   ]
  },
  {
   "cell_type": "code",
   "execution_count": 11,
   "metadata": {},
   "outputs": [
    {
     "data": {
      "text/plain": [
       "gender\n",
       "female    3870769\n",
       "male      4053979\n",
       "Name: enrollment, dtype: int64"
      ]
     },
     "execution_count": 11,
     "metadata": {},
     "output_type": "execute_result"
    }
   ],
   "source": [
    "#Insert code here\n",
    "schools.groupby([\"gender\"])[\"enrollment\"].sum()"
   ]
  },
  {
   "cell_type": "code",
   "execution_count": 7,
   "metadata": {},
   "outputs": [
    {
     "data": {
      "text/plain": [
       "Index(['Unnamed: 0', 'region', 'province', 'municipality', 'division',\n",
       "       'school_id', 'school_name', 'year_level', 'gender', 'enrollment',\n",
       "       'latitude', 'longitude', 'ID', 'Total_Enro', 'Total_Inst', 'Rooms_used',\n",
       "       'Rooms_unused', 'Type_of_Sc'],\n",
       "      dtype='object')"
      ]
     },
     "execution_count": 7,
     "metadata": {},
     "output_type": "execute_result"
    }
   ],
   "source": [
    "schools.columns\n"
   ]
  },
  {
   "cell_type": "markdown",
   "metadata": {},
   "source": [
    "2. How many municiapalities are covered by the dataframe?"
   ]
  },
  {
   "cell_type": "markdown",
   "metadata": {},
   "source": [
    "Insert markdown final answer:"
   ]
  },
  {
   "cell_type": "code",
   "execution_count": 20,
   "metadata": {},
   "outputs": [
    {
     "data": {
      "text/plain": [
       "996"
      ]
     },
     "execution_count": 20,
     "metadata": {},
     "output_type": "execute_result"
    }
   ],
   "source": [
    "#Insert code here\n",
    "\n",
    "schools[\"municipality\"].nunique()"
   ]
  },
  {
   "cell_type": "markdown",
   "metadata": {},
   "source": [
    "3. Which year_level has the highest number of enrollees? (use `enrollment` column)"
   ]
  },
  {
   "cell_type": "markdown",
   "metadata": {},
   "source": [
    "Insert markdown final answer:"
   ]
  },
  {
   "cell_type": "code",
   "execution_count": 31,
   "metadata": {},
   "outputs": [
    {
     "data": {
      "text/html": [
       "<div>\n",
       "<style scoped>\n",
       "    .dataframe tbody tr th:only-of-type {\n",
       "        vertical-align: middle;\n",
       "    }\n",
       "\n",
       "    .dataframe tbody tr th {\n",
       "        vertical-align: top;\n",
       "    }\n",
       "\n",
       "    .dataframe thead th {\n",
       "        text-align: right;\n",
       "    }\n",
       "</style>\n",
       "<table border=\"1\" class=\"dataframe\">\n",
       "  <thead>\n",
       "    <tr style=\"text-align: right;\">\n",
       "      <th></th>\n",
       "      <th>enrollment</th>\n",
       "    </tr>\n",
       "    <tr>\n",
       "      <th>year_level</th>\n",
       "      <th></th>\n",
       "    </tr>\n",
       "  </thead>\n",
       "  <tbody>\n",
       "    <tr>\n",
       "      <th>grade 4</th>\n",
       "      <td>920665</td>\n",
       "    </tr>\n",
       "  </tbody>\n",
       "</table>\n",
       "</div>"
      ],
      "text/plain": [
       "            enrollment\n",
       "year_level            \n",
       "grade 4         920665"
      ]
     },
     "execution_count": 31,
     "metadata": {},
     "output_type": "execute_result"
    }
   ],
   "source": [
    "#Insert code here\n",
    "schools.groupby([\"year_level\"])[[\"enrollment\"]].sum().sort_values(by=\"enrollment\", ascending = False).head(1)\n"
   ]
  },
  {
   "cell_type": "markdown",
   "metadata": {},
   "source": [
    "4. Are the school_id equal to school_name? What is the discrepancy?"
   ]
  },
  {
   "cell_type": "markdown",
   "metadata": {},
   "source": [
    "Insert markdown final answer:"
   ]
  },
  {
   "cell_type": "code",
   "execution_count": 35,
   "metadata": {},
   "outputs": [
    {
     "data": {
      "text/plain": [
       "125745    24\n",
       "120025    24\n",
       "111304    24\n",
       "120024    24\n",
       "120265    24\n",
       "          ..\n",
       "305315     8\n",
       "303266     8\n",
       "300967     8\n",
       "300711     8\n",
       "301075     8\n",
       "Name: school_id, Length: 14003, dtype: int64"
      ]
     },
     "execution_count": 35,
     "metadata": {},
     "output_type": "execute_result"
    }
   ],
   "source": [
    "#Insert code here\n",
    "schools[\"school_id\"].value_counts()"
   ]
  },
  {
   "cell_type": "code",
   "execution_count": 32,
   "metadata": {},
   "outputs": [
    {
     "data": {
      "text/plain": [
       "Index(['Unnamed: 0', 'region', 'province', 'municipality', 'division',\n",
       "       'school_id', 'school_name', 'year_level', 'gender', 'enrollment',\n",
       "       'latitude', 'longitude', 'ID', 'Total_Enro', 'Total_Inst', 'Rooms_used',\n",
       "       'Rooms_unused', 'Type_of_Sc'],\n",
       "      dtype='object')"
      ]
     },
     "execution_count": 32,
     "metadata": {},
     "output_type": "execute_result"
    }
   ],
   "source": [
    "schools.columns"
   ]
  },
  {
   "cell_type": "code",
   "execution_count": 36,
   "metadata": {},
   "outputs": [
    {
     "data": {
      "text/plain": [
       "14003"
      ]
     },
     "execution_count": 36,
     "metadata": {},
     "output_type": "execute_result"
    }
   ],
   "source": [
    "schools[\"school_id\"].nunique()"
   ]
  },
  {
   "cell_type": "code",
   "execution_count": 37,
   "metadata": {},
   "outputs": [
    {
     "data": {
      "text/plain": [
       "San Isidro ES                    600\n",
       "San Vicente ES                   492\n",
       "San Jose ES                      468\n",
       "San Roque ES                     384\n",
       "San Isidro Elementary School     348\n",
       "                                ... \n",
       "Barahan NHS                        8\n",
       "Puerto National High School        8\n",
       "Cordova National High Sschool      8\n",
       "Isidoro Salma MHS (Balayong )      8\n",
       "Paraoir NHS                        8\n",
       "Name: school_name, Length: 12015, dtype: int64"
      ]
     },
     "execution_count": 37,
     "metadata": {},
     "output_type": "execute_result"
    }
   ],
   "source": [
    "schools[\"school_name\"].value_counts()"
   ]
  },
  {
   "cell_type": "code",
   "execution_count": 38,
   "metadata": {},
   "outputs": [
    {
     "data": {
      "text/plain": [
       "12015"
      ]
     },
     "execution_count": 38,
     "metadata": {},
     "output_type": "execute_result"
    }
   ],
   "source": [
    "schools[\"school_name\"].nunique()"
   ]
  },
  {
   "cell_type": "code",
   "execution_count": 39,
   "metadata": {},
   "outputs": [
    {
     "data": {
      "text/plain": [
       "False"
      ]
     },
     "execution_count": 39,
     "metadata": {},
     "output_type": "execute_result"
    }
   ],
   "source": [
    "schools[\"school_name\"].nunique()== schools[\"school_id\"].nunique()"
   ]
  },
  {
   "cell_type": "code",
   "execution_count": 41,
   "metadata": {},
   "outputs": [
    {
     "data": {
      "text/plain": [
       "1988"
      ]
     },
     "execution_count": 41,
     "metadata": {},
     "output_type": "execute_result"
    }
   ],
   "source": [
    "schools[\"school_id\"].nunique()-schools[\"school_name\"].nunique()"
   ]
  },
  {
   "cell_type": "markdown",
   "metadata": {},
   "source": [
    "5. How many teachers are there overall?"
   ]
  },
  {
   "cell_type": "markdown",
   "metadata": {},
   "source": [
    "Insert markdown final answer:"
   ]
  },
  {
   "cell_type": "code",
   "execution_count": 9,
   "metadata": {
    "scrolled": true
   },
   "outputs": [
    {
     "data": {
      "text/plain": [
       "6      18892\n",
       "7      13632\n",
       "3      11104\n",
       "8       9984\n",
       "4       9460\n",
       "       ...  \n",
       "87         8\n",
       "76         8\n",
       "169        8\n",
       "125        8\n",
       "127        8\n",
       "Name: Total_Inst, Length: 128, dtype: int64"
      ]
     },
     "execution_count": 9,
     "metadata": {},
     "output_type": "execute_result"
    }
   ],
   "source": [
    "#Insert code here\n",
    "schools['Total_Inst'].value_counts()"
   ]
  },
  {
   "cell_type": "code",
   "execution_count": 10,
   "metadata": {},
   "outputs": [
    {
     "data": {
      "text/plain": [
       "128"
      ]
     },
     "execution_count": 10,
     "metadata": {},
     "output_type": "execute_result"
    }
   ],
   "source": [
    "schools['Total_Inst'].nunique()"
   ]
  },
  {
   "cell_type": "code",
   "execution_count": 16,
   "metadata": {},
   "outputs": [
    {
     "data": {
      "text/plain": [
       "Total_Inst    179044\n",
       "dtype: int64"
      ]
     },
     "execution_count": 16,
     "metadata": {},
     "output_type": "execute_result"
    }
   ],
   "source": [
    "schools.groupby('school_id')[['Total_Inst']].first().sum()"
   ]
  },
  {
   "cell_type": "markdown",
   "metadata": {},
   "source": [
    "***Medium***"
   ]
  },
  {
   "cell_type": "markdown",
   "metadata": {},
   "source": [
    "6. Which province has the highest count of schools? How many is it?"
   ]
  },
  {
   "cell_type": "markdown",
   "metadata": {},
   "source": [
    "Insert markdown final answer:"
   ]
  },
  {
   "cell_type": "code",
   "execution_count": 31,
   "metadata": {},
   "outputs": [
    {
     "data": {
      "text/html": [
       "<div>\n",
       "<style scoped>\n",
       "    .dataframe tbody tr th:only-of-type {\n",
       "        vertical-align: middle;\n",
       "    }\n",
       "\n",
       "    .dataframe tbody tr th {\n",
       "        vertical-align: top;\n",
       "    }\n",
       "\n",
       "    .dataframe thead th {\n",
       "        text-align: right;\n",
       "    }\n",
       "</style>\n",
       "<table border=\"1\" class=\"dataframe\">\n",
       "  <thead>\n",
       "    <tr style=\"text-align: right;\">\n",
       "      <th></th>\n",
       "      <th>school_id</th>\n",
       "    </tr>\n",
       "    <tr>\n",
       "      <th>province</th>\n",
       "      <th></th>\n",
       "    </tr>\n",
       "  </thead>\n",
       "  <tbody>\n",
       "    <tr>\n",
       "      <th>Leyte</th>\n",
       "      <td>1241</td>\n",
       "    </tr>\n",
       "  </tbody>\n",
       "</table>\n",
       "</div>"
      ],
      "text/plain": [
       "          school_id\n",
       "province           \n",
       "Leyte          1241"
      ]
     },
     "execution_count": 31,
     "metadata": {},
     "output_type": "execute_result"
    }
   ],
   "source": [
    "#Insert code here\n",
    "schools.groupby('province')[['school_id']].nunique().sort_values(by = 'school_id').tail(1)"
   ]
  },
  {
   "cell_type": "code",
   "execution_count": 17,
   "metadata": {},
   "outputs": [
    {
     "data": {
      "text/plain": [
       "Index(['Unnamed: 0', 'region', 'province', 'municipality', 'division',\n",
       "       'school_id', 'school_name', 'year_level', 'gender', 'enrollment',\n",
       "       'latitude', 'longitude', 'ID', 'Total_Enro', 'Total_Inst', 'Rooms_used',\n",
       "       'Rooms_unused', 'Type_of_Sc'],\n",
       "      dtype='object')"
      ]
     },
     "execution_count": 17,
     "metadata": {},
     "output_type": "execute_result"
    }
   ],
   "source": [
    "schools.columns\n"
   ]
  },
  {
   "cell_type": "markdown",
   "metadata": {},
   "source": [
    "7. How many provinces only has one school? Which provinces are these?"
   ]
  },
  {
   "cell_type": "markdown",
   "metadata": {},
   "source": [
    "Insert markdown final answer:"
   ]
  },
  {
   "cell_type": "code",
   "execution_count": 39,
   "metadata": {},
   "outputs": [
    {
     "data": {
      "text/html": [
       "<div>\n",
       "<style scoped>\n",
       "    .dataframe tbody tr th:only-of-type {\n",
       "        vertical-align: middle;\n",
       "    }\n",
       "\n",
       "    .dataframe tbody tr th {\n",
       "        vertical-align: top;\n",
       "    }\n",
       "\n",
       "    .dataframe thead th {\n",
       "        text-align: right;\n",
       "    }\n",
       "</style>\n",
       "<table border=\"1\" class=\"dataframe\">\n",
       "  <thead>\n",
       "    <tr style=\"text-align: right;\">\n",
       "      <th></th>\n",
       "      <th>school_id</th>\n",
       "    </tr>\n",
       "    <tr>\n",
       "      <th>province</th>\n",
       "      <th></th>\n",
       "    </tr>\n",
       "  </thead>\n",
       "  <tbody>\n",
       "    <tr>\n",
       "      <th>Abra</th>\n",
       "      <td>1</td>\n",
       "    </tr>\n",
       "    <tr>\n",
       "      <th>Zamboanga Del Norte</th>\n",
       "      <td>1</td>\n",
       "    </tr>\n",
       "    <tr>\n",
       "      <th>Sulu</th>\n",
       "      <td>1</td>\n",
       "    </tr>\n",
       "    <tr>\n",
       "      <th>Apayao</th>\n",
       "      <td>1</td>\n",
       "    </tr>\n",
       "    <tr>\n",
       "      <th>Quirino</th>\n",
       "      <td>1</td>\n",
       "    </tr>\n",
       "    <tr>\n",
       "      <th>Mountain Province</th>\n",
       "      <td>1</td>\n",
       "    </tr>\n",
       "  </tbody>\n",
       "</table>\n",
       "</div>"
      ],
      "text/plain": [
       "                     school_id\n",
       "province                      \n",
       "Abra                         1\n",
       "Zamboanga Del Norte          1\n",
       "Sulu                         1\n",
       "Apayao                       1\n",
       "Quirino                      1\n",
       "Mountain Province            1"
      ]
     },
     "execution_count": 39,
     "metadata": {},
     "output_type": "execute_result"
    }
   ],
   "source": [
    "#Insert code here\n",
    "one_school = schools.groupby('province')[['school_id']].nunique().sort_values(by = 'school_id').head(6)\n",
    "one_school"
   ]
  },
  {
   "cell_type": "code",
   "execution_count": 38,
   "metadata": {},
   "outputs": [
    {
     "data": {
      "text/plain": [
       "school_id\n",
       "1            6\n",
       "dtype: int64"
      ]
     },
     "execution_count": 38,
     "metadata": {},
     "output_type": "execute_result"
    }
   ],
   "source": [
    "one_school[one_school['school_id']==1].value_counts()"
   ]
  },
  {
   "cell_type": "markdown",
   "metadata": {},
   "source": [
    "8. How many municipalities are there in ARMM?"
   ]
  },
  {
   "cell_type": "markdown",
   "metadata": {},
   "source": [
    "Insert markdown final answer:"
   ]
  },
  {
   "cell_type": "code",
   "execution_count": 15,
   "metadata": {},
   "outputs": [],
   "source": [
    "#Insert code here\n",
    "schools[schools['region'] == 'ARMM - Autonomous Region in Muslim Mindanao']\\\n",
    "                            ['municipality'].value_counts().shape[0]"
   ]
  },
  {
   "cell_type": "code",
   "execution_count": 64,
   "metadata": {},
   "outputs": [
    {
     "data": {
      "text/plain": [
       "23"
      ]
     },
     "execution_count": 64,
     "metadata": {},
     "output_type": "execute_result"
    }
   ],
   "source": [
    "schools[schools['region']==\"ARMM - Autonomous Region in Muslim Mindanao\"]['municipality'].value_counts().shape[0]\n"
   ]
  },
  {
   "cell_type": "code",
   "execution_count": 69,
   "metadata": {},
   "outputs": [
    {
     "data": {
      "text/html": [
       "<div>\n",
       "<style scoped>\n",
       "    .dataframe tbody tr th:only-of-type {\n",
       "        vertical-align: middle;\n",
       "    }\n",
       "\n",
       "    .dataframe tbody tr th {\n",
       "        vertical-align: top;\n",
       "    }\n",
       "\n",
       "    .dataframe thead th {\n",
       "        text-align: right;\n",
       "    }\n",
       "</style>\n",
       "<table border=\"1\" class=\"dataframe\">\n",
       "  <thead>\n",
       "    <tr style=\"text-align: right;\">\n",
       "      <th></th>\n",
       "      <th>municipality</th>\n",
       "    </tr>\n",
       "    <tr>\n",
       "      <th>region</th>\n",
       "      <th></th>\n",
       "    </tr>\n",
       "  </thead>\n",
       "  <tbody>\n",
       "    <tr>\n",
       "      <th>ARMM - Autonomous Region in Muslim Mindanao</th>\n",
       "      <td>23</td>\n",
       "    </tr>\n",
       "  </tbody>\n",
       "</table>\n",
       "</div>"
      ],
      "text/plain": [
       "                                             municipality\n",
       "region                                                   \n",
       "ARMM - Autonomous Region in Muslim Mindanao            23"
      ]
     },
     "execution_count": 69,
     "metadata": {},
     "output_type": "execute_result"
    }
   ],
   "source": [
    "schools.groupby('region')[['municipality']].nunique().head(1)"
   ]
  },
  {
   "cell_type": "code",
   "execution_count": 41,
   "metadata": {},
   "outputs": [
    {
     "data": {
      "text/plain": [
       "Index(['Unnamed: 0', 'region', 'province', 'municipality', 'division',\n",
       "       'school_id', 'school_name', 'year_level', 'gender', 'enrollment',\n",
       "       'latitude', 'longitude', 'ID', 'Total_Enro', 'Total_Inst', 'Rooms_used',\n",
       "       'Rooms_unused', 'Type_of_Sc'],\n",
       "      dtype='object')"
      ]
     },
     "execution_count": 41,
     "metadata": {},
     "output_type": "execute_result"
    }
   ],
   "source": [
    "schools.columns\n"
   ]
  },
  {
   "cell_type": "code",
   "execution_count": 46,
   "metadata": {},
   "outputs": [
    {
     "data": {
      "text/plain": [
       "region                                       municipality    \n",
       "ARMM - Autonomous Region in Muslim Mindanao  City Of Lamitan     76\n",
       "                                             Tipo-Tipo           32\n",
       "                                             Balindong (Watu)    24\n",
       "                                             Piagapo             24\n",
       "                                             Saguiaran           24\n",
       "                                                                 ..\n",
       "Region XII - Soccsksargen                    Kalamansig           8\n",
       "                                             Lebak                8\n",
       "                                             Maasim               8\n",
       "                                             Palimbang            8\n",
       "                                             Polomolok            8\n",
       "Name: municipality, Length: 1129, dtype: int64"
      ]
     },
     "execution_count": 46,
     "metadata": {},
     "output_type": "execute_result"
    }
   ],
   "source": [
    "schools.groupby('region')['municipality'].value_counts()"
   ]
  },
  {
   "cell_type": "markdown",
   "metadata": {},
   "source": [
    "9. Which school has the most number of rooms (used + unused)?"
   ]
  },
  {
   "cell_type": "markdown",
   "metadata": {},
   "source": [
    "Insert markdown final answer:"
   ]
  },
  {
   "cell_type": "code",
   "execution_count": 75,
   "metadata": {},
   "outputs": [
    {
     "data": {
      "text/plain": [
       "<pandas.core.groupby.generic.SeriesGroupBy object at 0x0000015A2AAB1BE0>"
      ]
     },
     "execution_count": 75,
     "metadata": {},
     "output_type": "execute_result"
    }
   ],
   "source": [
    "#Insert code here\n",
    "schools.groupby('school_name')['tot_rooms']"
   ]
  },
  {
   "cell_type": "code",
   "execution_count": 70,
   "metadata": {},
   "outputs": [
    {
     "data": {
      "text/plain": [
       "Index(['Unnamed: 0', 'region', 'province', 'municipality', 'division',\n",
       "       'school_id', 'school_name', 'year_level', 'gender', 'enrollment',\n",
       "       'latitude', 'longitude', 'ID', 'Total_Enro', 'Total_Inst', 'Rooms_used',\n",
       "       'Rooms_unused', 'Type_of_Sc'],\n",
       "      dtype='object')"
      ]
     },
     "execution_count": 70,
     "metadata": {},
     "output_type": "execute_result"
    }
   ],
   "source": [
    "schools.columns\n"
   ]
  },
  {
   "cell_type": "code",
   "execution_count": 74,
   "metadata": {},
   "outputs": [],
   "source": [
    "schools['tot_rooms'] = schools['Rooms_used'] + schools['Rooms_unused']\n",
    "schools['tot_rooms'] "
   ]
  },
  {
   "cell_type": "code",
   "execution_count": 87,
   "metadata": {},
   "outputs": [
    {
     "data": {
      "text/html": [
       "<div>\n",
       "<style scoped>\n",
       "    .dataframe tbody tr th:only-of-type {\n",
       "        vertical-align: middle;\n",
       "    }\n",
       "\n",
       "    .dataframe tbody tr th {\n",
       "        vertical-align: top;\n",
       "    }\n",
       "\n",
       "    .dataframe thead th {\n",
       "        text-align: right;\n",
       "    }\n",
       "</style>\n",
       "<table border=\"1\" class=\"dataframe\">\n",
       "  <thead>\n",
       "    <tr style=\"text-align: right;\">\n",
       "      <th></th>\n",
       "      <th>tot_rooms</th>\n",
       "    </tr>\n",
       "    <tr>\n",
       "      <th>school_id</th>\n",
       "      <th></th>\n",
       "    </tr>\n",
       "  </thead>\n",
       "  <tbody>\n",
       "    <tr>\n",
       "      <th>305413</th>\n",
       "      <td>187.0</td>\n",
       "    </tr>\n",
       "  </tbody>\n",
       "</table>\n",
       "</div>"
      ],
      "text/plain": [
       "           tot_rooms\n",
       "school_id           \n",
       "305413         187.0"
      ]
     },
     "execution_count": 87,
     "metadata": {},
     "output_type": "execute_result"
    }
   ],
   "source": [
    "schools.groupby('school_id')[['tot_rooms']].first().sort_values(by = 'tot_rooms',ascending = False).head(1)"
   ]
  },
  {
   "cell_type": "markdown",
   "metadata": {},
   "source": [
    "10. Within the schools in Central Visayas, how many female enrollees do they have all in all? (use `enrollment` column)"
   ]
  },
  {
   "cell_type": "markdown",
   "metadata": {},
   "source": [
    "Insert markdown final answer:"
   ]
  },
  {
   "cell_type": "code",
   "execution_count": 101,
   "metadata": {},
   "outputs": [
    {
     "data": {
      "text/html": [
       "<div>\n",
       "<style scoped>\n",
       "    .dataframe tbody tr th:only-of-type {\n",
       "        vertical-align: middle;\n",
       "    }\n",
       "\n",
       "    .dataframe tbody tr th {\n",
       "        vertical-align: top;\n",
       "    }\n",
       "\n",
       "    .dataframe thead th {\n",
       "        text-align: right;\n",
       "    }\n",
       "</style>\n",
       "<table border=\"1\" class=\"dataframe\">\n",
       "  <thead>\n",
       "    <tr style=\"text-align: right;\">\n",
       "      <th></th>\n",
       "      <th>Unnamed: 0</th>\n",
       "      <th>region</th>\n",
       "      <th>province</th>\n",
       "      <th>municipality</th>\n",
       "      <th>division</th>\n",
       "      <th>school_id</th>\n",
       "      <th>school_name</th>\n",
       "      <th>year_level</th>\n",
       "      <th>gender</th>\n",
       "      <th>enrollment</th>\n",
       "      <th>latitude</th>\n",
       "      <th>longitude</th>\n",
       "      <th>ID</th>\n",
       "      <th>Total_Enro</th>\n",
       "      <th>Total_Inst</th>\n",
       "      <th>Rooms_used</th>\n",
       "      <th>Rooms_unused</th>\n",
       "      <th>Type_of_Sc</th>\n",
       "      <th>tot_rooms</th>\n",
       "    </tr>\n",
       "  </thead>\n",
       "  <tbody>\n",
       "    <tr>\n",
       "      <th>71065</th>\n",
       "      <td>71065</td>\n",
       "      <td>Region VII - Central Visayas</td>\n",
       "      <td>Bohol</td>\n",
       "      <td>Alburquerque</td>\n",
       "      <td>Bohol</td>\n",
       "      <td>117930</td>\n",
       "      <td>Bahi Primary School</td>\n",
       "      <td>grade 1</td>\n",
       "      <td>female</td>\n",
       "      <td>5</td>\n",
       "      <td>9.61231</td>\n",
       "      <td>123.944</td>\n",
       "      <td>117930</td>\n",
       "      <td>64</td>\n",
       "      <td>2</td>\n",
       "      <td>2.0</td>\n",
       "      <td>0.0</td>\n",
       "      <td>School with no Annexes</td>\n",
       "      <td>2.0</td>\n",
       "    </tr>\n",
       "    <tr>\n",
       "      <th>71067</th>\n",
       "      <td>71067</td>\n",
       "      <td>Region VII - Central Visayas</td>\n",
       "      <td>Bohol</td>\n",
       "      <td>Alburquerque</td>\n",
       "      <td>Bohol</td>\n",
       "      <td>117930</td>\n",
       "      <td>Bahi Primary School</td>\n",
       "      <td>grade 2</td>\n",
       "      <td>female</td>\n",
       "      <td>10</td>\n",
       "      <td>9.61231</td>\n",
       "      <td>123.944</td>\n",
       "      <td>117930</td>\n",
       "      <td>64</td>\n",
       "      <td>2</td>\n",
       "      <td>2.0</td>\n",
       "      <td>0.0</td>\n",
       "      <td>School with no Annexes</td>\n",
       "      <td>2.0</td>\n",
       "    </tr>\n",
       "    <tr>\n",
       "      <th>71069</th>\n",
       "      <td>71069</td>\n",
       "      <td>Region VII - Central Visayas</td>\n",
       "      <td>Bohol</td>\n",
       "      <td>Alburquerque</td>\n",
       "      <td>Bohol</td>\n",
       "      <td>117930</td>\n",
       "      <td>Bahi Primary School</td>\n",
       "      <td>grade 3</td>\n",
       "      <td>female</td>\n",
       "      <td>8</td>\n",
       "      <td>9.61231</td>\n",
       "      <td>123.944</td>\n",
       "      <td>117930</td>\n",
       "      <td>64</td>\n",
       "      <td>2</td>\n",
       "      <td>2.0</td>\n",
       "      <td>0.0</td>\n",
       "      <td>School with no Annexes</td>\n",
       "      <td>2.0</td>\n",
       "    </tr>\n",
       "    <tr>\n",
       "      <th>71071</th>\n",
       "      <td>71071</td>\n",
       "      <td>Region VII - Central Visayas</td>\n",
       "      <td>Bohol</td>\n",
       "      <td>Alburquerque</td>\n",
       "      <td>Bohol</td>\n",
       "      <td>117930</td>\n",
       "      <td>Bahi Primary School</td>\n",
       "      <td>grade 4</td>\n",
       "      <td>female</td>\n",
       "      <td>7</td>\n",
       "      <td>9.61231</td>\n",
       "      <td>123.944</td>\n",
       "      <td>117930</td>\n",
       "      <td>64</td>\n",
       "      <td>2</td>\n",
       "      <td>2.0</td>\n",
       "      <td>0.0</td>\n",
       "      <td>School with no Annexes</td>\n",
       "      <td>2.0</td>\n",
       "    </tr>\n",
       "    <tr>\n",
       "      <th>71073</th>\n",
       "      <td>71073</td>\n",
       "      <td>Region VII - Central Visayas</td>\n",
       "      <td>Bohol</td>\n",
       "      <td>Alburquerque</td>\n",
       "      <td>Bohol</td>\n",
       "      <td>117930</td>\n",
       "      <td>Bahi Primary School</td>\n",
       "      <td>grade 5</td>\n",
       "      <td>female</td>\n",
       "      <td>0</td>\n",
       "      <td>9.61231</td>\n",
       "      <td>123.944</td>\n",
       "      <td>117930</td>\n",
       "      <td>64</td>\n",
       "      <td>2</td>\n",
       "      <td>2.0</td>\n",
       "      <td>0.0</td>\n",
       "      <td>School with no Annexes</td>\n",
       "      <td>2.0</td>\n",
       "    </tr>\n",
       "    <tr>\n",
       "      <th>...</th>\n",
       "      <td>...</td>\n",
       "      <td>...</td>\n",
       "      <td>...</td>\n",
       "      <td>...</td>\n",
       "      <td>...</td>\n",
       "      <td>...</td>\n",
       "      <td>...</td>\n",
       "      <td>...</td>\n",
       "      <td>...</td>\n",
       "      <td>...</td>\n",
       "      <td>...</td>\n",
       "      <td>...</td>\n",
       "      <td>...</td>\n",
       "      <td>...</td>\n",
       "      <td>...</td>\n",
       "      <td>...</td>\n",
       "      <td>...</td>\n",
       "      <td>...</td>\n",
       "      <td>...</td>\n",
       "    </tr>\n",
       "    <tr>\n",
       "      <th>150255</th>\n",
       "      <td>150255</td>\n",
       "      <td>Region VII - Central Visayas</td>\n",
       "      <td>Negros Oriental</td>\n",
       "      <td>Valencia (Luzurriaga)</td>\n",
       "      <td>Negros Oriental</td>\n",
       "      <td>303291</td>\n",
       "      <td>Valencia National High School (Valencia Tech. ...</td>\n",
       "      <td>fourth year</td>\n",
       "      <td>female</td>\n",
       "      <td>137</td>\n",
       "      <td>9.278714</td>\n",
       "      <td>123.248878</td>\n",
       "      <td>303291</td>\n",
       "      <td>1089</td>\n",
       "      <td>31</td>\n",
       "      <td>22.0</td>\n",
       "      <td>0.0</td>\n",
       "      <td>Mother school</td>\n",
       "      <td>22.0</td>\n",
       "    </tr>\n",
       "    <tr>\n",
       "      <th>150257</th>\n",
       "      <td>150257</td>\n",
       "      <td>Region VII - Central Visayas</td>\n",
       "      <td>Negros Oriental</td>\n",
       "      <td>Vallehermoso</td>\n",
       "      <td>Negros Oriental</td>\n",
       "      <td>303292</td>\n",
       "      <td>Vallehermoso National High School</td>\n",
       "      <td>first year</td>\n",
       "      <td>female</td>\n",
       "      <td>223</td>\n",
       "      <td>10.330328</td>\n",
       "      <td>123.325979</td>\n",
       "      <td>303292</td>\n",
       "      <td>1367</td>\n",
       "      <td>9</td>\n",
       "      <td>16.0</td>\n",
       "      <td>0.0</td>\n",
       "      <td>Annex or Extension school(s)</td>\n",
       "      <td>16.0</td>\n",
       "    </tr>\n",
       "    <tr>\n",
       "      <th>150259</th>\n",
       "      <td>150259</td>\n",
       "      <td>Region VII - Central Visayas</td>\n",
       "      <td>Negros Oriental</td>\n",
       "      <td>Vallehermoso</td>\n",
       "      <td>Negros Oriental</td>\n",
       "      <td>303292</td>\n",
       "      <td>Vallehermoso National High School</td>\n",
       "      <td>second year</td>\n",
       "      <td>female</td>\n",
       "      <td>222</td>\n",
       "      <td>10.330328</td>\n",
       "      <td>123.325979</td>\n",
       "      <td>303292</td>\n",
       "      <td>1367</td>\n",
       "      <td>9</td>\n",
       "      <td>16.0</td>\n",
       "      <td>0.0</td>\n",
       "      <td>Annex or Extension school(s)</td>\n",
       "      <td>16.0</td>\n",
       "    </tr>\n",
       "    <tr>\n",
       "      <th>150261</th>\n",
       "      <td>150261</td>\n",
       "      <td>Region VII - Central Visayas</td>\n",
       "      <td>Negros Oriental</td>\n",
       "      <td>Vallehermoso</td>\n",
       "      <td>Negros Oriental</td>\n",
       "      <td>303292</td>\n",
       "      <td>Vallehermoso National High School</td>\n",
       "      <td>third year</td>\n",
       "      <td>female</td>\n",
       "      <td>167</td>\n",
       "      <td>10.330328</td>\n",
       "      <td>123.325979</td>\n",
       "      <td>303292</td>\n",
       "      <td>1367</td>\n",
       "      <td>9</td>\n",
       "      <td>16.0</td>\n",
       "      <td>0.0</td>\n",
       "      <td>Annex or Extension school(s)</td>\n",
       "      <td>16.0</td>\n",
       "    </tr>\n",
       "    <tr>\n",
       "      <th>150263</th>\n",
       "      <td>150263</td>\n",
       "      <td>Region VII - Central Visayas</td>\n",
       "      <td>Negros Oriental</td>\n",
       "      <td>Vallehermoso</td>\n",
       "      <td>Negros Oriental</td>\n",
       "      <td>303292</td>\n",
       "      <td>Vallehermoso National High School</td>\n",
       "      <td>fourth year</td>\n",
       "      <td>female</td>\n",
       "      <td>181</td>\n",
       "      <td>10.330328</td>\n",
       "      <td>123.325979</td>\n",
       "      <td>303292</td>\n",
       "      <td>1367</td>\n",
       "      <td>9</td>\n",
       "      <td>16.0</td>\n",
       "      <td>0.0</td>\n",
       "      <td>Annex or Extension school(s)</td>\n",
       "      <td>16.0</td>\n",
       "    </tr>\n",
       "  </tbody>\n",
       "</table>\n",
       "<p>5354 rows × 19 columns</p>\n",
       "</div>"
      ],
      "text/plain": [
       "        Unnamed: 0                        region         province  \\\n",
       "71065        71065  Region VII - Central Visayas            Bohol   \n",
       "71067        71067  Region VII - Central Visayas            Bohol   \n",
       "71069        71069  Region VII - Central Visayas            Bohol   \n",
       "71071        71071  Region VII - Central Visayas            Bohol   \n",
       "71073        71073  Region VII - Central Visayas            Bohol   \n",
       "...            ...                           ...              ...   \n",
       "150255      150255  Region VII - Central Visayas  Negros Oriental   \n",
       "150257      150257  Region VII - Central Visayas  Negros Oriental   \n",
       "150259      150259  Region VII - Central Visayas  Negros Oriental   \n",
       "150261      150261  Region VII - Central Visayas  Negros Oriental   \n",
       "150263      150263  Region VII - Central Visayas  Negros Oriental   \n",
       "\n",
       "                 municipality         division  school_id  \\\n",
       "71065            Alburquerque            Bohol     117930   \n",
       "71067            Alburquerque            Bohol     117930   \n",
       "71069            Alburquerque            Bohol     117930   \n",
       "71071            Alburquerque            Bohol     117930   \n",
       "71073            Alburquerque            Bohol     117930   \n",
       "...                       ...              ...        ...   \n",
       "150255  Valencia (Luzurriaga)  Negros Oriental     303291   \n",
       "150257           Vallehermoso  Negros Oriental     303292   \n",
       "150259           Vallehermoso  Negros Oriental     303292   \n",
       "150261           Vallehermoso  Negros Oriental     303292   \n",
       "150263           Vallehermoso  Negros Oriental     303292   \n",
       "\n",
       "                                              school_name   year_level  \\\n",
       "71065                                 Bahi Primary School      grade 1   \n",
       "71067                                 Bahi Primary School      grade 2   \n",
       "71069                                 Bahi Primary School      grade 3   \n",
       "71071                                 Bahi Primary School      grade 4   \n",
       "71073                                 Bahi Primary School      grade 5   \n",
       "...                                                   ...          ...   \n",
       "150255  Valencia National High School (Valencia Tech. ...  fourth year   \n",
       "150257                  Vallehermoso National High School   first year   \n",
       "150259                  Vallehermoso National High School  second year   \n",
       "150261                  Vallehermoso National High School   third year   \n",
       "150263                  Vallehermoso National High School  fourth year   \n",
       "\n",
       "        gender  enrollment   latitude   longitude      ID  Total_Enro  \\\n",
       "71065   female           5    9.61231     123.944  117930          64   \n",
       "71067   female          10    9.61231     123.944  117930          64   \n",
       "71069   female           8    9.61231     123.944  117930          64   \n",
       "71071   female           7    9.61231     123.944  117930          64   \n",
       "71073   female           0    9.61231     123.944  117930          64   \n",
       "...        ...         ...        ...         ...     ...         ...   \n",
       "150255  female         137   9.278714  123.248878  303291        1089   \n",
       "150257  female         223  10.330328  123.325979  303292        1367   \n",
       "150259  female         222  10.330328  123.325979  303292        1367   \n",
       "150261  female         167  10.330328  123.325979  303292        1367   \n",
       "150263  female         181  10.330328  123.325979  303292        1367   \n",
       "\n",
       "        Total_Inst  Rooms_used  Rooms_unused                    Type_of_Sc  \\\n",
       "71065            2         2.0           0.0        School with no Annexes   \n",
       "71067            2         2.0           0.0        School with no Annexes   \n",
       "71069            2         2.0           0.0        School with no Annexes   \n",
       "71071            2         2.0           0.0        School with no Annexes   \n",
       "71073            2         2.0           0.0        School with no Annexes   \n",
       "...            ...         ...           ...                           ...   \n",
       "150255          31        22.0           0.0                 Mother school   \n",
       "150257           9        16.0           0.0  Annex or Extension school(s)   \n",
       "150259           9        16.0           0.0  Annex or Extension school(s)   \n",
       "150261           9        16.0           0.0  Annex or Extension school(s)   \n",
       "150263           9        16.0           0.0  Annex or Extension school(s)   \n",
       "\n",
       "        tot_rooms  \n",
       "71065         2.0  \n",
       "71067         2.0  \n",
       "71069         2.0  \n",
       "71071         2.0  \n",
       "71073         2.0  \n",
       "...           ...  \n",
       "150255       22.0  \n",
       "150257       16.0  \n",
       "150259       16.0  \n",
       "150261       16.0  \n",
       "150263       16.0  \n",
       "\n",
       "[5354 rows x 19 columns]"
      ]
     },
     "execution_count": 101,
     "metadata": {},
     "output_type": "execute_result"
    }
   ],
   "source": [
    "#Insert code here\n",
    "regVII_female = schools[(schools['region']=='Region VII - Central Visayas') & (schools['gender'] == 'female')]\n",
    "regVII_female"
   ]
  },
  {
   "cell_type": "code",
   "execution_count": 103,
   "metadata": {},
   "outputs": [
    {
     "data": {
      "text/plain": [
       "222644"
      ]
     },
     "execution_count": 103,
     "metadata": {},
     "output_type": "execute_result"
    }
   ],
   "source": [
    "regVII_female[\"enrollment\"].sum()"
   ]
  },
  {
   "cell_type": "code",
   "execution_count": 90,
   "metadata": {},
   "outputs": [
    {
     "data": {
      "text/plain": [
       "Region VIII - Eastern Visayas                  22820\n",
       "Region VI - Western Visayas                    16760\n",
       "Region I - Ilocos Region                       16380\n",
       "Region IV-A - CALABARZON                       13568\n",
       "Region IX - Zamboanga Peninsula                13300\n",
       "Region III - Central Luzon                     12564\n",
       "Region V - Bicol Region                        12300\n",
       "CARAGA - CARAGA                                11388\n",
       "Region VII - Central Visayas                   10708\n",
       "Region XII - SOCCSKSARGEN                       8124\n",
       "Region XI - Davao Region                        6980\n",
       "Region IV-B - MIMAROPA                          4668\n",
       "Region II - Cagayan Valley                      4040\n",
       "Region X - Northern Mindanao                    2204\n",
       "NCR - National Capital Region                   1952\n",
       "Region XII - Soccsksargen                       1256\n",
       "CAR - Cordillera Administrative Region           368\n",
       "ARMM - Autonomous Region in Muslim Mindanao      364\n",
       "Name: region, dtype: int64"
      ]
     },
     "execution_count": 90,
     "metadata": {},
     "output_type": "execute_result"
    }
   ],
   "source": [
    "schools['region'].value_counts()"
   ]
  },
  {
   "cell_type": "markdown",
   "metadata": {},
   "source": [
    "***Hard***"
   ]
  },
  {
   "cell_type": "markdown",
   "metadata": {},
   "source": [
    "11. How many secondary students are there overall? (use `enrollment` column)"
   ]
  },
  {
   "cell_type": "markdown",
   "metadata": {},
   "source": [
    "Insert markdown final answer:"
   ]
  },
  {
   "cell_type": "code",
   "execution_count": 104,
   "metadata": {},
   "outputs": [],
   "source": [
    "#Insert code here"
   ]
  },
  {
   "cell_type": "code",
   "execution_count": 106,
   "metadata": {},
   "outputs": [
    {
     "data": {
      "text/plain": [
       "array(['grade 1', 'grade 2', 'grade 3', 'grade 4', 'grade 5', 'grade 6',\n",
       "       'first year', 'second year', 'third year', 'fourth year'],\n",
       "      dtype=object)"
      ]
     },
     "execution_count": 106,
     "metadata": {},
     "output_type": "execute_result"
    }
   ],
   "source": [
    "schools[\"year_level\"].unique()"
   ]
  },
  {
   "cell_type": "code",
   "execution_count": 118,
   "metadata": {},
   "outputs": [
    {
     "data": {
      "text/plain": [
       "['first year', 'second year', 'third year', 'fourth year']"
      ]
     },
     "execution_count": 118,
     "metadata": {},
     "output_type": "execute_result"
    }
   ],
   "source": [
    "secondary = ['first year', 'second year', 'third year', 'fourth year']\n",
    "secondary"
   ]
  },
  {
   "cell_type": "code",
   "execution_count": 119,
   "metadata": {},
   "outputs": [
    {
     "data": {
      "text/plain": [
       "first year     4698\n",
       "second year    4698\n",
       "third year     4698\n",
       "fourth year    4698\n",
       "Name: year_level, dtype: int64"
      ]
     },
     "execution_count": 119,
     "metadata": {},
     "output_type": "execute_result"
    }
   ],
   "source": [
    "schools[schools['year_level'].isin(secondary)]['year_level'].value_counts()"
   ]
  },
  {
   "cell_type": "code",
   "execution_count": 120,
   "metadata": {},
   "outputs": [
    {
     "data": {
      "text/plain": [
       "2918650"
      ]
     },
     "execution_count": 120,
     "metadata": {},
     "output_type": "execute_result"
    }
   ],
   "source": [
    "schools[schools['year_level'].isin(secondary)]['enrollment'].sum()"
   ]
  },
  {
   "cell_type": "markdown",
   "metadata": {},
   "source": [
    "12. Which school_id has the highest teacher-student ratio?"
   ]
  },
  {
   "cell_type": "code",
   "execution_count": 130,
   "metadata": {},
   "outputs": [
    {
     "data": {
      "text/html": [
       "<div>\n",
       "<style scoped>\n",
       "    .dataframe tbody tr th:only-of-type {\n",
       "        vertical-align: middle;\n",
       "    }\n",
       "\n",
       "    .dataframe tbody tr th {\n",
       "        vertical-align: top;\n",
       "    }\n",
       "\n",
       "    .dataframe thead th {\n",
       "        text-align: right;\n",
       "    }\n",
       "</style>\n",
       "<table border=\"1\" class=\"dataframe\">\n",
       "  <thead>\n",
       "    <tr style=\"text-align: right;\">\n",
       "      <th></th>\n",
       "      <th>Total_Inst</th>\n",
       "      <th>enrollment</th>\n",
       "    </tr>\n",
       "    <tr>\n",
       "      <th>school_id</th>\n",
       "      <th></th>\n",
       "      <th></th>\n",
       "    </tr>\n",
       "  </thead>\n",
       "  <tbody>\n",
       "    <tr>\n",
       "      <th>100002</th>\n",
       "      <td>192</td>\n",
       "      <td>407</td>\n",
       "    </tr>\n",
       "    <tr>\n",
       "      <th>100003</th>\n",
       "      <td>72</td>\n",
       "      <td>152</td>\n",
       "    </tr>\n",
       "    <tr>\n",
       "      <th>100004</th>\n",
       "      <td>84</td>\n",
       "      <td>107</td>\n",
       "    </tr>\n",
       "    <tr>\n",
       "      <th>100005</th>\n",
       "      <td>84</td>\n",
       "      <td>67</td>\n",
       "    </tr>\n",
       "    <tr>\n",
       "      <th>100007</th>\n",
       "      <td>84</td>\n",
       "      <td>137</td>\n",
       "    </tr>\n",
       "    <tr>\n",
       "      <th>...</th>\n",
       "      <td>...</td>\n",
       "      <td>...</td>\n",
       "    </tr>\n",
       "    <tr>\n",
       "      <th>321504</th>\n",
       "      <td>104</td>\n",
       "      <td>615</td>\n",
       "    </tr>\n",
       "    <tr>\n",
       "      <th>321601</th>\n",
       "      <td>128</td>\n",
       "      <td>2832</td>\n",
       "    </tr>\n",
       "    <tr>\n",
       "      <th>322502</th>\n",
       "      <td>48</td>\n",
       "      <td>143</td>\n",
       "    </tr>\n",
       "    <tr>\n",
       "      <th>322503</th>\n",
       "      <td>64</td>\n",
       "      <td>130</td>\n",
       "    </tr>\n",
       "    <tr>\n",
       "      <th>322601</th>\n",
       "      <td>64</td>\n",
       "      <td>318</td>\n",
       "    </tr>\n",
       "  </tbody>\n",
       "</table>\n",
       "<p>14003 rows × 2 columns</p>\n",
       "</div>"
      ],
      "text/plain": [
       "           Total_Inst  enrollment\n",
       "school_id                        \n",
       "100002            192         407\n",
       "100003             72         152\n",
       "100004             84         107\n",
       "100005             84          67\n",
       "100007             84         137\n",
       "...               ...         ...\n",
       "321504            104         615\n",
       "321601            128        2832\n",
       "322502             48         143\n",
       "322503             64         130\n",
       "322601             64         318\n",
       "\n",
       "[14003 rows x 2 columns]"
      ]
     },
     "execution_count": 130,
     "metadata": {},
     "output_type": "execute_result"
    }
   ],
   "source": [
    "schools.groupby('school_id')[['Total_Inst', 'enrollment']]\\\n",
    ".agg({'Total_Inst':'sum','enrollment':'sum'})"
   ]
  },
  {
   "cell_type": "code",
   "execution_count": 131,
   "metadata": {},
   "outputs": [
    {
     "data": {
      "text/html": [
       "<div>\n",
       "<style scoped>\n",
       "    .dataframe tbody tr th:only-of-type {\n",
       "        vertical-align: middle;\n",
       "    }\n",
       "\n",
       "    .dataframe tbody tr th {\n",
       "        vertical-align: top;\n",
       "    }\n",
       "\n",
       "    .dataframe thead th {\n",
       "        text-align: right;\n",
       "    }\n",
       "</style>\n",
       "<table border=\"1\" class=\"dataframe\">\n",
       "  <thead>\n",
       "    <tr style=\"text-align: right;\">\n",
       "      <th></th>\n",
       "      <th>Total_Inst</th>\n",
       "      <th>enrollment</th>\n",
       "    </tr>\n",
       "    <tr>\n",
       "      <th>school_id</th>\n",
       "      <th></th>\n",
       "      <th></th>\n",
       "    </tr>\n",
       "  </thead>\n",
       "  <tbody>\n",
       "    <tr>\n",
       "      <th>100002</th>\n",
       "      <td>16</td>\n",
       "      <td>407</td>\n",
       "    </tr>\n",
       "    <tr>\n",
       "      <th>100003</th>\n",
       "      <td>6</td>\n",
       "      <td>152</td>\n",
       "    </tr>\n",
       "    <tr>\n",
       "      <th>100004</th>\n",
       "      <td>7</td>\n",
       "      <td>107</td>\n",
       "    </tr>\n",
       "    <tr>\n",
       "      <th>100005</th>\n",
       "      <td>7</td>\n",
       "      <td>67</td>\n",
       "    </tr>\n",
       "    <tr>\n",
       "      <th>100007</th>\n",
       "      <td>7</td>\n",
       "      <td>137</td>\n",
       "    </tr>\n",
       "    <tr>\n",
       "      <th>...</th>\n",
       "      <td>...</td>\n",
       "      <td>...</td>\n",
       "    </tr>\n",
       "    <tr>\n",
       "      <th>321504</th>\n",
       "      <td>13</td>\n",
       "      <td>615</td>\n",
       "    </tr>\n",
       "    <tr>\n",
       "      <th>321601</th>\n",
       "      <td>16</td>\n",
       "      <td>2832</td>\n",
       "    </tr>\n",
       "    <tr>\n",
       "      <th>322502</th>\n",
       "      <td>6</td>\n",
       "      <td>143</td>\n",
       "    </tr>\n",
       "    <tr>\n",
       "      <th>322503</th>\n",
       "      <td>8</td>\n",
       "      <td>130</td>\n",
       "    </tr>\n",
       "    <tr>\n",
       "      <th>322601</th>\n",
       "      <td>8</td>\n",
       "      <td>318</td>\n",
       "    </tr>\n",
       "  </tbody>\n",
       "</table>\n",
       "<p>14003 rows × 2 columns</p>\n",
       "</div>"
      ],
      "text/plain": [
       "           Total_Inst  enrollment\n",
       "school_id                        \n",
       "100002             16         407\n",
       "100003              6         152\n",
       "100004              7         107\n",
       "100005              7          67\n",
       "100007              7         137\n",
       "...               ...         ...\n",
       "321504             13         615\n",
       "321601             16        2832\n",
       "322502              6         143\n",
       "322503              8         130\n",
       "322601              8         318\n",
       "\n",
       "[14003 rows x 2 columns]"
      ]
     },
     "execution_count": 131,
     "metadata": {},
     "output_type": "execute_result"
    }
   ],
   "source": [
    "schools.groupby('school_id')[['Total_Inst', 'enrollment']]\\\n",
    ".agg({'Total_Inst':'first','enrollment':'sum'})"
   ]
  },
  {
   "cell_type": "code",
   "execution_count": 132,
   "metadata": {},
   "outputs": [],
   "source": [
    "new_df = schools.groupby('school_id')[['Total_Inst', 'enrollment']]\\\n",
    ".agg({'Total_Inst':'first','enrollment':'sum'})"
   ]
  },
  {
   "cell_type": "code",
   "execution_count": 135,
   "metadata": {},
   "outputs": [
    {
     "data": {
      "text/html": [
       "<div>\n",
       "<style scoped>\n",
       "    .dataframe tbody tr th:only-of-type {\n",
       "        vertical-align: middle;\n",
       "    }\n",
       "\n",
       "    .dataframe tbody tr th {\n",
       "        vertical-align: top;\n",
       "    }\n",
       "\n",
       "    .dataframe thead th {\n",
       "        text-align: right;\n",
       "    }\n",
       "</style>\n",
       "<table border=\"1\" class=\"dataframe\">\n",
       "  <thead>\n",
       "    <tr style=\"text-align: right;\">\n",
       "      <th></th>\n",
       "      <th>ratio</th>\n",
       "    </tr>\n",
       "    <tr>\n",
       "      <th>school_id</th>\n",
       "      <th></th>\n",
       "    </tr>\n",
       "  </thead>\n",
       "  <tbody>\n",
       "    <tr>\n",
       "      <th>100002</th>\n",
       "      <td>0.039312</td>\n",
       "    </tr>\n",
       "    <tr>\n",
       "      <th>100003</th>\n",
       "      <td>0.039474</td>\n",
       "    </tr>\n",
       "    <tr>\n",
       "      <th>100004</th>\n",
       "      <td>0.065421</td>\n",
       "    </tr>\n",
       "    <tr>\n",
       "      <th>100005</th>\n",
       "      <td>0.104478</td>\n",
       "    </tr>\n",
       "    <tr>\n",
       "      <th>100007</th>\n",
       "      <td>0.051095</td>\n",
       "    </tr>\n",
       "    <tr>\n",
       "      <th>...</th>\n",
       "      <td>...</td>\n",
       "    </tr>\n",
       "    <tr>\n",
       "      <th>321504</th>\n",
       "      <td>0.021138</td>\n",
       "    </tr>\n",
       "    <tr>\n",
       "      <th>321601</th>\n",
       "      <td>0.005650</td>\n",
       "    </tr>\n",
       "    <tr>\n",
       "      <th>322502</th>\n",
       "      <td>0.041958</td>\n",
       "    </tr>\n",
       "    <tr>\n",
       "      <th>322503</th>\n",
       "      <td>0.061538</td>\n",
       "    </tr>\n",
       "    <tr>\n",
       "      <th>322601</th>\n",
       "      <td>0.025157</td>\n",
       "    </tr>\n",
       "  </tbody>\n",
       "</table>\n",
       "<p>14003 rows × 1 columns</p>\n",
       "</div>"
      ],
      "text/plain": [
       "              ratio\n",
       "school_id          \n",
       "100002     0.039312\n",
       "100003     0.039474\n",
       "100004     0.065421\n",
       "100005     0.104478\n",
       "100007     0.051095\n",
       "...             ...\n",
       "321504     0.021138\n",
       "321601     0.005650\n",
       "322502     0.041958\n",
       "322503     0.061538\n",
       "322601     0.025157\n",
       "\n",
       "[14003 rows x 1 columns]"
      ]
     },
     "execution_count": 135,
     "metadata": {},
     "output_type": "execute_result"
    }
   ],
   "source": [
    "new_df['ratio'] = new_df['Total_Inst']/new_df['enrollment']\n",
    "new_df[['ratio']]"
   ]
  },
  {
   "cell_type": "code",
   "execution_count": 136,
   "metadata": {},
   "outputs": [
    {
     "data": {
      "text/html": [
       "<div>\n",
       "<style scoped>\n",
       "    .dataframe tbody tr th:only-of-type {\n",
       "        vertical-align: middle;\n",
       "    }\n",
       "\n",
       "    .dataframe tbody tr th {\n",
       "        vertical-align: top;\n",
       "    }\n",
       "\n",
       "    .dataframe thead th {\n",
       "        text-align: right;\n",
       "    }\n",
       "</style>\n",
       "<table border=\"1\" class=\"dataframe\">\n",
       "  <thead>\n",
       "    <tr style=\"text-align: right;\">\n",
       "      <th></th>\n",
       "      <th>Total_Inst</th>\n",
       "      <th>enrollment</th>\n",
       "      <th>ratio</th>\n",
       "    </tr>\n",
       "    <tr>\n",
       "      <th>school_id</th>\n",
       "      <th></th>\n",
       "      <th></th>\n",
       "      <th></th>\n",
       "    </tr>\n",
       "  </thead>\n",
       "  <tbody>\n",
       "    <tr>\n",
       "      <th>121426</th>\n",
       "      <td>2</td>\n",
       "      <td>4</td>\n",
       "      <td>0.500000</td>\n",
       "    </tr>\n",
       "    <tr>\n",
       "      <th>300193</th>\n",
       "      <td>54</td>\n",
       "      <td>137</td>\n",
       "      <td>0.394161</td>\n",
       "    </tr>\n",
       "    <tr>\n",
       "      <th>319603</th>\n",
       "      <td>84</td>\n",
       "      <td>241</td>\n",
       "      <td>0.348548</td>\n",
       "    </tr>\n",
       "    <tr>\n",
       "      <th>121793</th>\n",
       "      <td>2</td>\n",
       "      <td>7</td>\n",
       "      <td>0.285714</td>\n",
       "    </tr>\n",
       "    <tr>\n",
       "      <th>131795</th>\n",
       "      <td>3</td>\n",
       "      <td>11</td>\n",
       "      <td>0.272727</td>\n",
       "    </tr>\n",
       "    <tr>\n",
       "      <th>...</th>\n",
       "      <td>...</td>\n",
       "      <td>...</td>\n",
       "      <td>...</td>\n",
       "    </tr>\n",
       "    <tr>\n",
       "      <th>316637</th>\n",
       "      <td>0</td>\n",
       "      <td>82</td>\n",
       "      <td>0.000000</td>\n",
       "    </tr>\n",
       "    <tr>\n",
       "      <th>103148</th>\n",
       "      <td>0</td>\n",
       "      <td>489</td>\n",
       "      <td>0.000000</td>\n",
       "    </tr>\n",
       "    <tr>\n",
       "      <th>120266</th>\n",
       "      <td>0</td>\n",
       "      <td>104</td>\n",
       "      <td>0.000000</td>\n",
       "    </tr>\n",
       "    <tr>\n",
       "      <th>120603</th>\n",
       "      <td>0</td>\n",
       "      <td>120</td>\n",
       "      <td>0.000000</td>\n",
       "    </tr>\n",
       "    <tr>\n",
       "      <th>125270</th>\n",
       "      <td>0</td>\n",
       "      <td>866</td>\n",
       "      <td>0.000000</td>\n",
       "    </tr>\n",
       "  </tbody>\n",
       "</table>\n",
       "<p>14003 rows × 3 columns</p>\n",
       "</div>"
      ],
      "text/plain": [
       "           Total_Inst  enrollment     ratio\n",
       "school_id                                  \n",
       "121426              2           4  0.500000\n",
       "300193             54         137  0.394161\n",
       "319603             84         241  0.348548\n",
       "121793              2           7  0.285714\n",
       "131795              3          11  0.272727\n",
       "...               ...         ...       ...\n",
       "316637              0          82  0.000000\n",
       "103148              0         489  0.000000\n",
       "120266              0         104  0.000000\n",
       "120603              0         120  0.000000\n",
       "125270              0         866  0.000000\n",
       "\n",
       "[14003 rows x 3 columns]"
      ]
     },
     "execution_count": 136,
     "metadata": {},
     "output_type": "execute_result"
    }
   ],
   "source": [
    "new_df.sort_values(by='ratio', ascending= False)"
   ]
  },
  {
   "cell_type": "markdown",
   "metadata": {},
   "source": [
    "Insert markdown final answer:"
   ]
  },
  {
   "cell_type": "code",
   "execution_count": 19,
   "metadata": {
    "scrolled": true
   },
   "outputs": [],
   "source": [
    "#Insert code here"
   ]
  }
 ],
 "metadata": {
  "kernelspec": {
   "display_name": "Python 3",
   "language": "python",
   "name": "python3"
  },
  "language_info": {
   "codemirror_mode": {
    "name": "ipython",
    "version": 3
   },
   "file_extension": ".py",
   "mimetype": "text/x-python",
   "name": "python",
   "nbconvert_exporter": "python",
   "pygments_lexer": "ipython3",
   "version": "3.8.5"
  }
 },
 "nbformat": 4,
 "nbformat_minor": 2
}
